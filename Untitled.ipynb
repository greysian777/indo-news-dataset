{
 "cells": [
  {
   "cell_type": "code",
   "execution_count": null,
   "metadata": {
    "scrolled": true
   },
   "outputs": [],
   "source": [
    "%%writefile get_p.py\n",
    "import pandas as pd\n",
    "from ehe import pull_paragraf_kompas, pull_source\n",
    "import time\n",
    "import os\n",
    "\n",
    "\n",
    "df = pd.read_csv('berhasil_2019.csv')\n",
    "df1 = pd.read_csv('KOMPAS 2018.csv')\n",
    "df.columns = ['0', 'judul', 'image', 'link', 'tanggal']\n",
    "links = df.link\n",
    "# links = links[18954:]\n",
    "\n",
    "p_source = pd.DataFrame()\n",
    "for i, link in enumerate(links):\n",
    "    print(f'getting par of {link}')     \n",
    "    try:\n",
    "        p = pull_paragraf_kompas(link)\n",
    "#         html = pull_source(link)\n",
    "    except Exception as e: \n",
    "        time.sleep(60)\n",
    "        p = None\n",
    "        pass\n",
    "    if i % 100 == 0 and i != 1 : \n",
    "        print('-- UPLOAD TIME -- \\n\\n\\n\\n\\n')\n",
    "        os.system('python3 pusher.py')\n",
    "    \n",
    "   \n",
    "    df_ = pd.Series([link, p])\n",
    "    df__ = p_source.append(df_, ignore_index=True)\n",
    "    df__.to_csv('KOMPAS_2019_p.csv', mode='a')\n",
    "    print(f'done {i}/{len(links)}')\n",
    "os.system('python3 pusher.py')"
   ]
  },
  {
   "cell_type": "markdown",
   "metadata": {},
   "source": [
    "# DATASET"
   ]
  },
  {
   "cell_type": "code",
   "execution_count": null,
   "metadata": {},
   "outputs": [],
   "source": [
    "import pandas as pd \n",
    "df1 = pd.read_csv('csv/berhasil_2019.csv')\n",
    "df2 = pd.read_csv('csv/KOMPAS_2019_p.csv')"
   ]
  },
  {
   "cell_type": "code",
   "execution_count": null,
   "metadata": {},
   "outputs": [],
   "source": [
    "df1"
   ]
  },
  {
   "cell_type": "markdown",
   "metadata": {},
   "source": [
    "# presentable dataset"
   ]
  },
  {
   "cell_type": "code",
   "execution_count": null,
   "metadata": {},
   "outputs": [],
   "source": [
    "import pandas as pd \n",
    "df1 = pd.read_csv('csv/berhasil_2019.csv')\n",
    "df2 = pd.read_csv('csv/KOMPAS_2019_p.csv')\n",
    "df2.dropna(inplace=True)\n",
    "df1.dropna(inplace=True)"
   ]
  },
  {
   "cell_type": "code",
   "execution_count": null,
   "metadata": {},
   "outputs": [],
   "source": [
    "df1.columns = ['index', 'title', 'image', 'links', 'date']\n",
    "df2 = df2.drop(['Unnamed: 0'], axis=1)\n",
    "df1 = df1.drop(['index'], axis=1)\n",
    "df2.columns=['links', 'p']\n",
    "df2 = df2.#(drop=True)"
   ]
  },
  {
   "cell_type": "code",
   "execution_count": null,
   "metadata": {},
   "outputs": [],
   "source": [
    "df1.to_csv('csv/berhasil_2019.csv')\n",
    "df2.to_csv('csv/KOMPAS_2019_p.csv')"
   ]
  },
  {
   "cell_type": "markdown",
   "metadata": {},
   "source": [
    "# filling the nan in p"
   ]
  },
  {
   "cell_type": "code",
   "execution_count": null,
   "metadata": {},
   "outputs": [],
   "source": [
    "test_df = pd.merge(df1, df2, on='links', how='left')"
   ]
  },
  {
   "cell_type": "code",
   "execution_count": null,
   "metadata": {},
   "outputs": [],
   "source": [
    "missing_p = test_df[test_df.isna().any(axis=1)]"
   ]
  },
  {
   "cell_type": "code",
   "execution_count": null,
   "metadata": {
    "scrolled": true
   },
   "outputs": [],
   "source": [
    "from ehe import pull_paragraf_kompas\n",
    "\n",
    "list_of_p_missing = []\n",
    "for link in missing_p.links.values: \n",
    "#     print(link)\n",
    "    try:\n",
    "        list_of_p_missing.append(pull_paragraf_kompas(link))\n",
    "    except: \n",
    "        print(link)\n",
    "        print('error')\n",
    "        list_of_p_missing.append(None)"
   ]
  },
  {
   "cell_type": "code",
   "execution_count": null,
   "metadata": {},
   "outputs": [],
   "source": [
    "for i, link in enumerate(missing_p.links.values): \n",
    "    if 'jeo' in link: \n",
    "        print(f'- [sample{i}]({link})')"
   ]
  },
  {
   "cell_type": "code",
   "execution_count": null,
   "metadata": {},
   "outputs": [],
   "source": [
    "import requests\n",
    "from bs4 import BeautifulSoup"
   ]
  },
  {
   "cell_type": "code",
   "execution_count": null,
   "metadata": {},
   "outputs": [],
   "source": [
    "r = requests.get('https://entertainment.kompas.com/jeo/artis-indonesia-dan-moge-sekadar-hobi-dan-gaya')"
   ]
  },
  {
   "cell_type": "code",
   "execution_count": null,
   "metadata": {},
   "outputs": [],
   "source": [
    "link = 'https://regional.kompas.com/read/2019/07/02/07350061/ini-profil-4-figur-yang-diusulkan-koalisi-masyarakat-sipil-ntb-untuk-pimpin'"
   ]
  },
  {
   "cell_type": "code",
   "execution_count": null,
   "metadata": {},
   "outputs": [],
   "source": [
    "r = requests.get(link)"
   ]
  },
  {
   "cell_type": "code",
   "execution_count": null,
   "metadata": {},
   "outputs": [],
   "source": [
    "soup = BeautifulSoup(r.content, 'lxml')"
   ]
  },
  {
   "cell_type": "code",
   "execution_count": null,
   "metadata": {},
   "outputs": [],
   "source": [
    "if '404' in soup.text: \n",
    "    print('yes')"
   ]
  },
  {
   "cell_type": "code",
   "execution_count": null,
   "metadata": {},
   "outputs": [],
   "source": [
    "paragraf_di_pesona_indonesia =soup.find('div',class_='main-artikel-paragraf')"
   ]
  },
  {
   "cell_type": "code",
   "execution_count": null,
   "metadata": {},
   "outputs": [],
   "source": [
    "lx = soup.find('div', class_='container')"
   ]
  },
  {
   "cell_type": "code",
   "execution_count": null,
   "metadata": {},
   "outputs": [],
   "source": [
    "lx"
   ]
  },
  {
   "cell_type": "code",
   "execution_count": null,
   "metadata": {},
   "outputs": [],
   "source": [
    "type(lx) == type(None)"
   ]
  },
  {
   "cell_type": "markdown",
   "metadata": {},
   "source": [
    "# getting the latest date"
   ]
  },
  {
   "cell_type": "code",
   "execution_count": 1,
   "metadata": {},
   "outputs": [
    {
     "name": "stdout",
     "output_type": "stream",
     "text": [
      "                                                   0  \\\n",
      "0  https://nasional.kompas.com/read/2019/07/24/23...   \n",
      "1  https://megapolitan.kompas.com/read/2019/07/24...   \n",
      "2  https://sains.kompas.com/read/2019/07/24/23053...   \n",
      "3  https://megapolitan.kompas.com/read/2019/07/24...   \n",
      "4  https://money.kompas.com/read/2019/07/24/22501...   \n",
      "\n",
      "                                                   1  \n",
      "0  \\n - Detasemen Khusus (Densus) 88 Antiteror Ma...  \n",
      "1  \\n Lembaga Perlindungan Saksi dan Korban (LPSK...  \n",
      "2  \\n Beberapa hari belakangan, berabagai pemberi...  \n",
      "3  \\n - Pelebaran sejumlah trotoar di Jakarta yan...  \n",
      "4  \\n - Kuasa Hukum  Bank Sampoerna menilai, guga...  \n",
      "terdapat Index(['0', '1'], dtype='object') sebagai judul\n"
     ]
    },
    {
     "name": "stdin",
     "output_type": "stream",
     "text": [
      "judul ke-0: \n",
      "> link\n",
      "judul ke-1: \n",
      "> p\n"
     ]
    },
    {
     "data": {
      "text/html": [
       "<div>\n",
       "<style scoped>\n",
       "    .dataframe tbody tr th:only-of-type {\n",
       "        vertical-align: middle;\n",
       "    }\n",
       "\n",
       "    .dataframe tbody tr th {\n",
       "        vertical-align: top;\n",
       "    }\n",
       "\n",
       "    .dataframe thead th {\n",
       "        text-align: right;\n",
       "    }\n",
       "</style>\n",
       "<table border=\"1\" class=\"dataframe\">\n",
       "  <thead>\n",
       "    <tr style=\"text-align: right;\">\n",
       "      <th></th>\n",
       "      <th>link</th>\n",
       "      <th>p</th>\n",
       "    </tr>\n",
       "  </thead>\n",
       "  <tbody>\n",
       "    <tr>\n",
       "      <th>0</th>\n",
       "      <td>https://nasional.kompas.com/read/2019/07/24/23...</td>\n",
       "      <td>\\n - Detasemen Khusus (Densus) 88 Antiteror Ma...</td>\n",
       "    </tr>\n",
       "    <tr>\n",
       "      <th>1</th>\n",
       "      <td>https://megapolitan.kompas.com/read/2019/07/24...</td>\n",
       "      <td>\\n Lembaga Perlindungan Saksi dan Korban (LPSK...</td>\n",
       "    </tr>\n",
       "    <tr>\n",
       "      <th>2</th>\n",
       "      <td>https://sains.kompas.com/read/2019/07/24/23053...</td>\n",
       "      <td>\\n Beberapa hari belakangan, berabagai pemberi...</td>\n",
       "    </tr>\n",
       "    <tr>\n",
       "      <th>3</th>\n",
       "      <td>https://megapolitan.kompas.com/read/2019/07/24...</td>\n",
       "      <td>\\n - Pelebaran sejumlah trotoar di Jakarta yan...</td>\n",
       "    </tr>\n",
       "    <tr>\n",
       "      <th>4</th>\n",
       "      <td>https://money.kompas.com/read/2019/07/24/22501...</td>\n",
       "      <td>\\n - Kuasa Hukum  Bank Sampoerna menilai, guga...</td>\n",
       "    </tr>\n",
       "    <tr>\n",
       "      <th>5</th>\n",
       "      <td>https://megapolitan.kompas.com/read/2019/07/24...</td>\n",
       "      <td>\\nJAKARTA, KOMPAS.com - Modus  grooming (penca...</td>\n",
       "    </tr>\n",
       "    <tr>\n",
       "      <th>6</th>\n",
       "      <td>https://nasional.kompas.com/read/2019/07/24/22...</td>\n",
       "      <td>\\n - Kelompok teroris Mujahidin Indonesia Timu...</td>\n",
       "    </tr>\n",
       "    <tr>\n",
       "      <th>7</th>\n",
       "      <td>https://nasional.kompas.com/read/2019/07/24/22...</td>\n",
       "      <td>\\n — Sekretaris Jenderal Partai Nasdem Johnny ...</td>\n",
       "    </tr>\n",
       "    <tr>\n",
       "      <th>8</th>\n",
       "      <td>https://regional.kompas.com/read/2019/07/24/22...</td>\n",
       "      <td>\\n - Foto sejumlah pelajar MAN 1 Kabupaten  Su...</td>\n",
       "    </tr>\n",
       "    <tr>\n",
       "      <th>9</th>\n",
       "      <td>https://money.kompas.com/read/2019/07/24/22274...</td>\n",
       "      <td>\\n - Pemerintah perlu melakukan pembenahan keb...</td>\n",
       "    </tr>\n",
       "    <tr>\n",
       "      <th>10</th>\n",
       "      <td>https://nasional.kompas.com/read/2019/07/24/22...</td>\n",
       "      <td>\\n - Mantan anggota Komisi Kejaksaan Kaspudin ...</td>\n",
       "    </tr>\n",
       "    <tr>\n",
       "      <th>11</th>\n",
       "      <td>https://megapolitan.kompas.com/read/2019/07/24...</td>\n",
       "      <td>\\n - Lembaga Perlindungan Saksi dan Korban (LP...</td>\n",
       "    </tr>\n",
       "    <tr>\n",
       "      <th>12</th>\n",
       "      <td>https://internasional.kompas.com/read/2019/07/...</td>\n",
       "      <td>\\n - Badan  Intelijen Israel mengklaim, mereka...</td>\n",
       "    </tr>\n",
       "    <tr>\n",
       "      <th>13</th>\n",
       "      <td>https://entertainment.kompas.com/read/2019/07/...</td>\n",
       "      <td>\\n--Meski telah berstatus sebagai mantan kekas...</td>\n",
       "    </tr>\n",
       "    <tr>\n",
       "      <th>14</th>\n",
       "      <td>https://megapolitan.kompas.com/read/2019/07/24...</td>\n",
       "      <td>\\n Rusunawa Rawa Buaya, Cengkareng, Jakarta Ba...</td>\n",
       "    </tr>\n",
       "    <tr>\n",
       "      <th>15</th>\n",
       "      <td>https://regional.kompas.com/read/2019/07/24/22...</td>\n",
       "      <td>\\n- Ketua DPD Partai Golkar Jawa Barat Dedi Mu...</td>\n",
       "    </tr>\n",
       "    <tr>\n",
       "      <th>16</th>\n",
       "      <td>https://regional.kompas.com/read/2019/07/24/22...</td>\n",
       "      <td>\\n - Tetangga terduga teroris N (40) tidak per...</td>\n",
       "    </tr>\n",
       "    <tr>\n",
       "      <th>17</th>\n",
       "      <td>https://bola.kompas.com/read/2019/07/24/220100...</td>\n",
       "      <td>\\nSURABAYA, KOMPAS.com -  Persebaya Surabaya m...</td>\n",
       "    </tr>\n",
       "    <tr>\n",
       "      <th>18</th>\n",
       "      <td>https://edukasi.kompas.com/read/2019/07/24/215...</td>\n",
       "      <td>\\n\\n Sekelompok  mahasiswa Universitas Muhamma...</td>\n",
       "    </tr>\n",
       "    <tr>\n",
       "      <th>19</th>\n",
       "      <td>https://edukasi.kompas.com/read/2019/07/24/215...</td>\n",
       "      <td>\\n\\n - Kementerian Pemberdayaan Perempuan Dan ...</td>\n",
       "    </tr>\n",
       "    <tr>\n",
       "      <th>20</th>\n",
       "      <td>https://nasional.kompas.com/read/2019/07/24/21...</td>\n",
       "      <td>\\n\\n - Delegasi Dewan Perwakilan Rakyat (DPR) ...</td>\n",
       "    </tr>\n",
       "    <tr>\n",
       "      <th>21</th>\n",
       "      <td>https://internasional.kompas.com/read/2019/07/...</td>\n",
       "      <td>\\n - Baik  murid dan guru pria sebuah  sekolah...</td>\n",
       "    </tr>\n",
       "    <tr>\n",
       "      <th>22</th>\n",
       "      <td>https://money.kompas.com/read/2019/07/24/21420...</td>\n",
       "      <td>\\n PT Pos Indonesia (Persero) menyelenggarakan...</td>\n",
       "    </tr>\n",
       "    <tr>\n",
       "      <th>23</th>\n",
       "      <td>https://lifestyle.kompas.com/read/2019/07/24/2...</td>\n",
       "      <td>\\n - Ada satu aturan emas yang dipercaya banya...</td>\n",
       "    </tr>\n",
       "    <tr>\n",
       "      <th>24</th>\n",
       "      <td>https://bola.kompas.com/read/2019/07/24/214000...</td>\n",
       "      <td>\\nBANDUNG, KOMPAS.com - Pelatih  Persib Bandun...</td>\n",
       "    </tr>\n",
       "    <tr>\n",
       "      <th>25</th>\n",
       "      <td>https://entertainment.kompas.com/read/2019/07/...</td>\n",
       "      <td>\\n - Bintang film  Joe Taslim dan YouTuber  Ch...</td>\n",
       "    </tr>\n",
       "    <tr>\n",
       "      <th>26</th>\n",
       "      <td>https://megapolitan.kompas.com/read/2019/07/24...</td>\n",
       "      <td>\\n - Satuan Polisi Pamung Praja atau Satpol-PP...</td>\n",
       "    </tr>\n",
       "    <tr>\n",
       "      <th>27</th>\n",
       "      <td>https://money.kompas.com/read/2019/07/24/21330...</td>\n",
       "      <td>\\n Dana Moneter Internasional ( IMF) menyataka...</td>\n",
       "    </tr>\n",
       "    <tr>\n",
       "      <th>28</th>\n",
       "      <td>https://olahraga.kompas.com/read/2019/07/24/21...</td>\n",
       "      <td>\\n Ada rencana pemerintah Provinsi Jawa Tengah...</td>\n",
       "    </tr>\n",
       "    <tr>\n",
       "      <th>29</th>\n",
       "      <td>https://internasional.kompas.com/read/2019/07/...</td>\n",
       "      <td>\\n Tiga pendukung kelompok ISIS yang terbukti ...</td>\n",
       "    </tr>\n",
       "    <tr>\n",
       "      <th>...</th>\n",
       "      <td>...</td>\n",
       "      <td>...</td>\n",
       "    </tr>\n",
       "    <tr>\n",
       "      <th>2610</th>\n",
       "      <td>https://regional.kompas.com/read/2019/07/19/21...</td>\n",
       "      <td>\\n - Posisi ketua umum Partai Persatuan Pemban...</td>\n",
       "    </tr>\n",
       "    <tr>\n",
       "      <th>2611</th>\n",
       "      <td>https://travel.kompas.com/read/2019/07/19/2105...</td>\n",
       "      <td>\\n Sebuah survei dilakukan oleh Hilton Honors ...</td>\n",
       "    </tr>\n",
       "    <tr>\n",
       "      <th>2612</th>\n",
       "      <td>https://regional.kompas.com/read/2019/07/19/21...</td>\n",
       "      <td>\\n - Setelah menjalani perawatan intensif sela...</td>\n",
       "    </tr>\n",
       "    <tr>\n",
       "      <th>2613</th>\n",
       "      <td>https://entertainment.kompas.com/read/2019/07/...</td>\n",
       "      <td>\\n - Sastrawan yang juga wartawan senior  Arsw...</td>\n",
       "    </tr>\n",
       "    <tr>\n",
       "      <th>2614</th>\n",
       "      <td>https://otomotif.kompas.com/read/2019/07/19/21...</td>\n",
       "      <td>\\n\\n - PT  Sokonindo Automobile ( DFSK Motors)...</td>\n",
       "    </tr>\n",
       "    <tr>\n",
       "      <th>2615</th>\n",
       "      <td>https://megapolitan.kompas.com/read/2019/07/19...</td>\n",
       "      <td>\\n Seorang perempuan berinisial SF (30) ditemu...</td>\n",
       "    </tr>\n",
       "    <tr>\n",
       "      <th>2616</th>\n",
       "      <td>https://entertainment.kompas.com/read/2019/07/...</td>\n",
       "      <td>\\n - Janji sutradara dan penulis skenario  Gin...</td>\n",
       "    </tr>\n",
       "    <tr>\n",
       "      <th>2617</th>\n",
       "      <td>https://sains.kompas.com/read/2019/07/19/21000...</td>\n",
       "      <td>\\n Di kala  suhu dingin seperti saat ini, bany...</td>\n",
       "    </tr>\n",
       "    <tr>\n",
       "      <th>2618</th>\n",
       "      <td>https://bola.kompas.com/read/2019/07/19/210000...</td>\n",
       "      <td>\\n- Pelatih interim  Semen Padang Weliansyah o...</td>\n",
       "    </tr>\n",
       "    <tr>\n",
       "      <th>2619</th>\n",
       "      <td>https://nasional.kompas.com/read/2019/07/19/20...</td>\n",
       "      <td>\\n - Wakil  Ketua DPR RI sekaligus Wakil Sekre...</td>\n",
       "    </tr>\n",
       "    <tr>\n",
       "      <th>2620</th>\n",
       "      <td>https://nasional.kompas.com/read/2019/07/19/20...</td>\n",
       "      <td>\\n - Anggota tim penasihat hukum penyidik Komi...</td>\n",
       "    </tr>\n",
       "    <tr>\n",
       "      <th>2621</th>\n",
       "      <td>https://regional.kompas.com/read/2019/07/19/20...</td>\n",
       "      <td>\\n - Kebakaran hutan dan lahan (karhutla) terj...</td>\n",
       "    </tr>\n",
       "    <tr>\n",
       "      <th>2622</th>\n",
       "      <td>https://nasional.kompas.com/read/2019/07/19/20...</td>\n",
       "      <td>\\n\\n – Wakil Ketua Dewan Perwakilan Rakyat (DP...</td>\n",
       "    </tr>\n",
       "    <tr>\n",
       "      <th>2623</th>\n",
       "      <td>https://megapolitan.kompas.com/read/2019/07/19...</td>\n",
       "      <td>\\n- Kapolres Jakarta Pusat Kombes Harry Kurnia...</td>\n",
       "    </tr>\n",
       "    <tr>\n",
       "      <th>2624</th>\n",
       "      <td>https://olahraga.kompas.com/read/2019/07/19/20...</td>\n",
       "      <td>\\n - Indonesia untuk sementara menempati perin...</td>\n",
       "    </tr>\n",
       "    <tr>\n",
       "      <th>2625</th>\n",
       "      <td>https://internasional.kompas.com/read/2019/07/...</td>\n",
       "      <td>\\n \\n Pembakaran gedung studio  Kyoto Animatio...</td>\n",
       "    </tr>\n",
       "    <tr>\n",
       "      <th>2626</th>\n",
       "      <td>https://otomotif.kompas.com/read/2019/07/19/20...</td>\n",
       "      <td>\\n PT Astra  Daihatsu Motor (ADM) tidak mengha...</td>\n",
       "    </tr>\n",
       "    <tr>\n",
       "      <th>2627</th>\n",
       "      <td>https://bola.kompas.com/read/2019/07/19/204000...</td>\n",
       "      <td>\\n - Masa depan transfer  Neymar ke  Barcelona...</td>\n",
       "    </tr>\n",
       "    <tr>\n",
       "      <th>2628</th>\n",
       "      <td>https://sains.kompas.com/read/2019/07/19/20330...</td>\n",
       "      <td>\\n\\nBelakangan, sedang marak #AgeChallenge men...</td>\n",
       "    </tr>\n",
       "    <tr>\n",
       "      <th>2629</th>\n",
       "      <td>https://entertainment.kompas.com/read/2019/07/...</td>\n",
       "      <td>\\n - Grup band  Dewa 19 menjadi salah satu pen...</td>\n",
       "    </tr>\n",
       "    <tr>\n",
       "      <th>2630</th>\n",
       "      <td>https://bola.kompas.com/read/2019/07/19/202836...</td>\n",
       "      <td>\\n -  Chelsea dikalahkan Kawasaki Frontale saa...</td>\n",
       "    </tr>\n",
       "    <tr>\n",
       "      <th>2631</th>\n",
       "      <td>https://lifestyle.kompas.com/read/2019/07/19/2...</td>\n",
       "      <td>\\n\\n Mengendurnya organ-organ penting tubuh ad...</td>\n",
       "    </tr>\n",
       "    <tr>\n",
       "      <th>2632</th>\n",
       "      <td>https://otomotif.kompas.com/read/2019/07/19/20...</td>\n",
       "      <td>\\n\\n Gabungan Industri Kendaraan Bermotor (Gai...</td>\n",
       "    </tr>\n",
       "    <tr>\n",
       "      <th>2633</th>\n",
       "      <td>https://nasional.kompas.com/read/2019/07/19/20...</td>\n",
       "      <td>\\n - Aparat kepolisian menangguhkan penahanan ...</td>\n",
       "    </tr>\n",
       "    <tr>\n",
       "      <th>2634</th>\n",
       "      <td>https://regional.kompas.com/read/2019/07/19/20...</td>\n",
       "      <td>\\n - Warga  Cisarua,  Bogor, Jawa Barat, meras...</td>\n",
       "    </tr>\n",
       "    <tr>\n",
       "      <th>2635</th>\n",
       "      <td>https://bola.kompas.com/read/2019/07/19/202000...</td>\n",
       "      <td>\\nSIDOARJO, KOMPAS.com - Pelatih Timnas U-19, ...</td>\n",
       "    </tr>\n",
       "    <tr>\n",
       "      <th>2636</th>\n",
       "      <td>https://entertainment.kompas.com/read/2019/07/...</td>\n",
       "      <td>\\n-Anak ketiga sastrawan  Arswendo Atmowiloto ...</td>\n",
       "    </tr>\n",
       "    <tr>\n",
       "      <th>2637</th>\n",
       "      <td>https://regional.kompas.com/read/2019/07/19/20...</td>\n",
       "      <td>\\n \\n - Selain melumpuhkan akses jalan,  longs...</td>\n",
       "    </tr>\n",
       "    <tr>\n",
       "      <th>2638</th>\n",
       "      <td>https://entertainment.kompas.com/read/2019/07/...</td>\n",
       "      <td>\\n - Usai penampilan Fortwenty di panggung uta...</td>\n",
       "    </tr>\n",
       "    <tr>\n",
       "      <th>2639</th>\n",
       "      <td>https://nasional.kompas.com/read/2019/07/19/20...</td>\n",
       "      <td>\\n - Sekretaris Jenderal  PAN Eddy Soeparno me...</td>\n",
       "    </tr>\n",
       "  </tbody>\n",
       "</table>\n",
       "<p>2640 rows × 2 columns</p>\n",
       "</div>"
      ],
      "text/plain": [
       "                                                   link  \\\n",
       "0     https://nasional.kompas.com/read/2019/07/24/23...   \n",
       "1     https://megapolitan.kompas.com/read/2019/07/24...   \n",
       "2     https://sains.kompas.com/read/2019/07/24/23053...   \n",
       "3     https://megapolitan.kompas.com/read/2019/07/24...   \n",
       "4     https://money.kompas.com/read/2019/07/24/22501...   \n",
       "5     https://megapolitan.kompas.com/read/2019/07/24...   \n",
       "6     https://nasional.kompas.com/read/2019/07/24/22...   \n",
       "7     https://nasional.kompas.com/read/2019/07/24/22...   \n",
       "8     https://regional.kompas.com/read/2019/07/24/22...   \n",
       "9     https://money.kompas.com/read/2019/07/24/22274...   \n",
       "10    https://nasional.kompas.com/read/2019/07/24/22...   \n",
       "11    https://megapolitan.kompas.com/read/2019/07/24...   \n",
       "12    https://internasional.kompas.com/read/2019/07/...   \n",
       "13    https://entertainment.kompas.com/read/2019/07/...   \n",
       "14    https://megapolitan.kompas.com/read/2019/07/24...   \n",
       "15    https://regional.kompas.com/read/2019/07/24/22...   \n",
       "16    https://regional.kompas.com/read/2019/07/24/22...   \n",
       "17    https://bola.kompas.com/read/2019/07/24/220100...   \n",
       "18    https://edukasi.kompas.com/read/2019/07/24/215...   \n",
       "19    https://edukasi.kompas.com/read/2019/07/24/215...   \n",
       "20    https://nasional.kompas.com/read/2019/07/24/21...   \n",
       "21    https://internasional.kompas.com/read/2019/07/...   \n",
       "22    https://money.kompas.com/read/2019/07/24/21420...   \n",
       "23    https://lifestyle.kompas.com/read/2019/07/24/2...   \n",
       "24    https://bola.kompas.com/read/2019/07/24/214000...   \n",
       "25    https://entertainment.kompas.com/read/2019/07/...   \n",
       "26    https://megapolitan.kompas.com/read/2019/07/24...   \n",
       "27    https://money.kompas.com/read/2019/07/24/21330...   \n",
       "28    https://olahraga.kompas.com/read/2019/07/24/21...   \n",
       "29    https://internasional.kompas.com/read/2019/07/...   \n",
       "...                                                 ...   \n",
       "2610  https://regional.kompas.com/read/2019/07/19/21...   \n",
       "2611  https://travel.kompas.com/read/2019/07/19/2105...   \n",
       "2612  https://regional.kompas.com/read/2019/07/19/21...   \n",
       "2613  https://entertainment.kompas.com/read/2019/07/...   \n",
       "2614  https://otomotif.kompas.com/read/2019/07/19/21...   \n",
       "2615  https://megapolitan.kompas.com/read/2019/07/19...   \n",
       "2616  https://entertainment.kompas.com/read/2019/07/...   \n",
       "2617  https://sains.kompas.com/read/2019/07/19/21000...   \n",
       "2618  https://bola.kompas.com/read/2019/07/19/210000...   \n",
       "2619  https://nasional.kompas.com/read/2019/07/19/20...   \n",
       "2620  https://nasional.kompas.com/read/2019/07/19/20...   \n",
       "2621  https://regional.kompas.com/read/2019/07/19/20...   \n",
       "2622  https://nasional.kompas.com/read/2019/07/19/20...   \n",
       "2623  https://megapolitan.kompas.com/read/2019/07/19...   \n",
       "2624  https://olahraga.kompas.com/read/2019/07/19/20...   \n",
       "2625  https://internasional.kompas.com/read/2019/07/...   \n",
       "2626  https://otomotif.kompas.com/read/2019/07/19/20...   \n",
       "2627  https://bola.kompas.com/read/2019/07/19/204000...   \n",
       "2628  https://sains.kompas.com/read/2019/07/19/20330...   \n",
       "2629  https://entertainment.kompas.com/read/2019/07/...   \n",
       "2630  https://bola.kompas.com/read/2019/07/19/202836...   \n",
       "2631  https://lifestyle.kompas.com/read/2019/07/19/2...   \n",
       "2632  https://otomotif.kompas.com/read/2019/07/19/20...   \n",
       "2633  https://nasional.kompas.com/read/2019/07/19/20...   \n",
       "2634  https://regional.kompas.com/read/2019/07/19/20...   \n",
       "2635  https://bola.kompas.com/read/2019/07/19/202000...   \n",
       "2636  https://entertainment.kompas.com/read/2019/07/...   \n",
       "2637  https://regional.kompas.com/read/2019/07/19/20...   \n",
       "2638  https://entertainment.kompas.com/read/2019/07/...   \n",
       "2639  https://nasional.kompas.com/read/2019/07/19/20...   \n",
       "\n",
       "                                                      p  \n",
       "0     \\n - Detasemen Khusus (Densus) 88 Antiteror Ma...  \n",
       "1     \\n Lembaga Perlindungan Saksi dan Korban (LPSK...  \n",
       "2     \\n Beberapa hari belakangan, berabagai pemberi...  \n",
       "3     \\n - Pelebaran sejumlah trotoar di Jakarta yan...  \n",
       "4     \\n - Kuasa Hukum  Bank Sampoerna menilai, guga...  \n",
       "5     \\nJAKARTA, KOMPAS.com - Modus  grooming (penca...  \n",
       "6     \\n - Kelompok teroris Mujahidin Indonesia Timu...  \n",
       "7     \\n — Sekretaris Jenderal Partai Nasdem Johnny ...  \n",
       "8     \\n - Foto sejumlah pelajar MAN 1 Kabupaten  Su...  \n",
       "9     \\n - Pemerintah perlu melakukan pembenahan keb...  \n",
       "10    \\n - Mantan anggota Komisi Kejaksaan Kaspudin ...  \n",
       "11    \\n - Lembaga Perlindungan Saksi dan Korban (LP...  \n",
       "12    \\n - Badan  Intelijen Israel mengklaim, mereka...  \n",
       "13    \\n--Meski telah berstatus sebagai mantan kekas...  \n",
       "14    \\n Rusunawa Rawa Buaya, Cengkareng, Jakarta Ba...  \n",
       "15    \\n- Ketua DPD Partai Golkar Jawa Barat Dedi Mu...  \n",
       "16    \\n - Tetangga terduga teroris N (40) tidak per...  \n",
       "17    \\nSURABAYA, KOMPAS.com -  Persebaya Surabaya m...  \n",
       "18    \\n\\n Sekelompok  mahasiswa Universitas Muhamma...  \n",
       "19    \\n\\n - Kementerian Pemberdayaan Perempuan Dan ...  \n",
       "20    \\n\\n - Delegasi Dewan Perwakilan Rakyat (DPR) ...  \n",
       "21    \\n - Baik  murid dan guru pria sebuah  sekolah...  \n",
       "22    \\n PT Pos Indonesia (Persero) menyelenggarakan...  \n",
       "23    \\n - Ada satu aturan emas yang dipercaya banya...  \n",
       "24    \\nBANDUNG, KOMPAS.com - Pelatih  Persib Bandun...  \n",
       "25    \\n - Bintang film  Joe Taslim dan YouTuber  Ch...  \n",
       "26    \\n - Satuan Polisi Pamung Praja atau Satpol-PP...  \n",
       "27    \\n Dana Moneter Internasional ( IMF) menyataka...  \n",
       "28    \\n Ada rencana pemerintah Provinsi Jawa Tengah...  \n",
       "29    \\n Tiga pendukung kelompok ISIS yang terbukti ...  \n",
       "...                                                 ...  \n",
       "2610  \\n - Posisi ketua umum Partai Persatuan Pemban...  \n",
       "2611  \\n Sebuah survei dilakukan oleh Hilton Honors ...  \n",
       "2612  \\n - Setelah menjalani perawatan intensif sela...  \n",
       "2613  \\n - Sastrawan yang juga wartawan senior  Arsw...  \n",
       "2614  \\n\\n - PT  Sokonindo Automobile ( DFSK Motors)...  \n",
       "2615  \\n Seorang perempuan berinisial SF (30) ditemu...  \n",
       "2616  \\n - Janji sutradara dan penulis skenario  Gin...  \n",
       "2617  \\n Di kala  suhu dingin seperti saat ini, bany...  \n",
       "2618  \\n- Pelatih interim  Semen Padang Weliansyah o...  \n",
       "2619  \\n - Wakil  Ketua DPR RI sekaligus Wakil Sekre...  \n",
       "2620  \\n - Anggota tim penasihat hukum penyidik Komi...  \n",
       "2621  \\n - Kebakaran hutan dan lahan (karhutla) terj...  \n",
       "2622  \\n\\n – Wakil Ketua Dewan Perwakilan Rakyat (DP...  \n",
       "2623  \\n- Kapolres Jakarta Pusat Kombes Harry Kurnia...  \n",
       "2624  \\n - Indonesia untuk sementara menempati perin...  \n",
       "2625  \\n \\n Pembakaran gedung studio  Kyoto Animatio...  \n",
       "2626  \\n PT Astra  Daihatsu Motor (ADM) tidak mengha...  \n",
       "2627  \\n - Masa depan transfer  Neymar ke  Barcelona...  \n",
       "2628  \\n\\nBelakangan, sedang marak #AgeChallenge men...  \n",
       "2629  \\n - Grup band  Dewa 19 menjadi salah satu pen...  \n",
       "2630  \\n -  Chelsea dikalahkan Kawasaki Frontale saa...  \n",
       "2631  \\n\\n Mengendurnya organ-organ penting tubuh ad...  \n",
       "2632  \\n\\n Gabungan Industri Kendaraan Bermotor (Gai...  \n",
       "2633  \\n - Aparat kepolisian menangguhkan penahanan ...  \n",
       "2634  \\n - Warga  Cisarua,  Bogor, Jawa Barat, meras...  \n",
       "2635  \\nSIDOARJO, KOMPAS.com - Pelatih Timnas U-19, ...  \n",
       "2636  \\n-Anak ketiga sastrawan  Arswendo Atmowiloto ...  \n",
       "2637  \\n \\n - Selain melumpuhkan akses jalan,  longs...  \n",
       "2638  \\n - Usai penampilan Fortwenty di panggung uta...  \n",
       "2639  \\n - Sekretaris Jenderal  PAN Eddy Soeparno me...  \n",
       "\n",
       "[2640 rows x 2 columns]"
      ]
     },
     "execution_count": 1,
     "metadata": {},
     "output_type": "execute_result"
    }
   ],
   "source": [
    "import pandas as pd \n",
    "from ehe import df_cleaner\n",
    "\n",
    "coba = pd.read_csv('csv/berhasil_2019-07-25_p.csv')\n",
    "df_cleaner('csv/berhasil_2019-07-25_p.csv', kasih_judul=True)\n",
    "# coba.sort_values(by='date', ascending=False).iloc[0][-1]\n",
    "# coba.head(5)"
   ]
  },
  {
   "cell_type": "code",
   "execution_count": null,
   "metadata": {},
   "outputs": [],
   "source": [
    "coba.head(5)"
   ]
  },
  {
   "cell_type": "code",
   "execution_count": null,
   "metadata": {},
   "outputs": [],
   "source": [
    "coba = coba.drop(coba.columns[:5], axis=1)"
   ]
  },
  {
   "cell_type": "code",
   "execution_count": null,
   "metadata": {},
   "outputs": [],
   "source": [
    "coba.to_csv('csv/berhasil_2019-07-25_p.csv')"
   ]
  },
  {
   "cell_type": "code",
   "execution_count": null,
   "metadata": {},
   "outputs": [],
   "source": [
    "coba = coba.dropna(inplace=True)"
   ]
  },
  {
   "cell_type": "code",
   "execution_count": null,
   "metadata": {},
   "outputs": [],
   "source": [
    "coba"
   ]
  },
  {
   "cell_type": "code",
   "execution_count": null,
   "metadata": {},
   "outputs": [],
   "source": [
    "test_df.sort_values(by='date', ascending=False).iloc[0][-2]"
   ]
  },
  {
   "cell_type": "markdown",
   "metadata": {},
   "source": [
    "# mencoba updater"
   ]
  },
  {
   "cell_type": "code",
   "execution_count": null,
   "metadata": {},
   "outputs": [],
   "source": [
    "from ehe import pull_link_kompas\n",
    "from pertanggalan import generate_date_from_range, link\n",
    "\n",
    "list_of_dates = generate_date_from_range(last='2019-07-10')"
   ]
  },
  {
   "cell_type": "code",
   "execution_count": null,
   "metadata": {},
   "outputs": [],
   "source": [
    "list_of_dates"
   ]
  },
  {
   "cell_type": "code",
   "execution_count": null,
   "metadata": {},
   "outputs": [],
   "source": [
    "pull_link_kompas(link, list_of_dates,name='TEST_1')"
   ]
  },
  {
   "cell_type": "code",
   "execution_count": null,
   "metadata": {},
   "outputs": [],
   "source": [
    "import pandas as pd \n",
    "df = pd.read_csv('csv/berhasil_TEST_1.csv')\n",
    "df.dropna(inplace=True)\n",
    "df = df.reset_index(drop=True)"
   ]
  },
  {
   "cell_type": "code",
   "execution_count": null,
   "metadata": {},
   "outputs": [],
   "source": []
  },
  {
   "cell_type": "code",
   "execution_count": null,
   "metadata": {},
   "outputs": [],
   "source": [
    "df"
   ]
  },
  {
   "cell_type": "code",
   "execution_count": null,
   "metadata": {},
   "outputs": [],
   "source": [
    "new_df = pd.read_csv('csv/berhasil_2019-07-25_links.csv')\n",
    "new_df.dropna(inplace=True)\n",
    "new_df"
   ]
  },
  {
   "cell_type": "code",
   "execution_count": null,
   "metadata": {},
   "outputs": [],
   "source": [
    "test = new_df.links"
   ]
  },
  {
   "cell_type": "code",
   "execution_count": null,
   "metadata": {},
   "outputs": [],
   "source": [
    "for link in test: \n",
    "    print(link)"
   ]
  },
  {
   "cell_type": "code",
   "execution_count": null,
   "metadata": {},
   "outputs": [],
   "source": []
  },
  {
   "cell_type": "markdown",
   "metadata": {},
   "source": [
    "# test"
   ]
  },
  {
   "cell_type": "code",
   "execution_count": null,
   "metadata": {},
   "outputs": [],
   "source": [
    "judul = [input(f'berak ke {x+1} \\n>') for x in range(4)\n",
    "    ]"
   ]
  },
  {
   "cell_type": "code",
   "execution_count": null,
   "metadata": {},
   "outputs": [],
   "source": [
    "judul"
   ]
  },
  {
   "cell_type": "code",
   "execution_count": null,
   "metadata": {},
   "outputs": [],
   "source": []
  }
 ],
 "metadata": {
  "kernelspec": {
   "display_name": "Python 3",
   "language": "python",
   "name": "python3"
  },
  "language_info": {
   "codemirror_mode": {
    "name": "ipython",
    "version": 3
   },
   "file_extension": ".py",
   "mimetype": "text/x-python",
   "name": "python",
   "nbconvert_exporter": "python",
   "pygments_lexer": "ipython3",
   "version": "3.7.3"
  }
 },
 "nbformat": 4,
 "nbformat_minor": 4
}
