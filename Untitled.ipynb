{
 "cells": [
  {
   "cell_type": "code",
   "execution_count": 10,
   "metadata": {},
   "outputs": [
    {
     "name": "stdout",
     "output_type": "stream",
     "text": [
      "Writing get_p.py\n"
     ]
    }
   ],
   "source": [
    "%%writefile get_p.py\n",
    "import pandas as pd\n",
    "from ehe import pull_paragraf, pull_source\n",
    "import time\n",
    "import os\n",
    "\n",
    "\n",
    "df = pd.read_csv('berhasil_2019.csv')\n",
    "df1 = pd.read_csv('KOMPAS 2018.csv')\n",
    "df.columns = ['0', 'judul', 'image', 'link', 'tanggal']\n",
    "links = df.link\n",
    "# links = links[18954:]\n",
    "\n",
    "p_source = pd.DataFrame()\n",
    "for i, link in enumerate(links):\n",
    "    print(f'getting par of {link}')     \n",
    "    try:\n",
    "        p = pull_paragraf(link)\n",
    "#         html = pull_source(link)\n",
    "    except Exception as e: \n",
    "        time.sleep(60)\n",
    "        p = None\n",
    "        pass\n",
    "    if i % 100 == 0 and i != 1 : \n",
    "        print('-- UPLOAD TIME -- \\n\\n\\n\\n\\n')\n",
    "        os.system('python3 pusher.py')\n",
    "    \n",
    "   \n",
    "    df_ = pd.Series([link, p])\n",
    "    df__ = p_source.append(df_, ignore_index=True)\n",
    "    df__.to_csv('KOMPAS_2019_p.csv', mode='a')\n",
    "    print(f'done {i}/{len(links)}')\n",
    "os.system('python3 pusher.py')"
   ]
  },
  {
   "cell_type": "markdown",
   "metadata": {},
   "source": [
    "# presentable dataset"
   ]
  },
  {
   "cell_type": "code",
   "execution_count": 14,
   "metadata": {},
   "outputs": [],
   "source": [
    "import pandas as pd \n",
    "df1 = pd.read_csv('csv/berhasil_2019.csv')\n",
    "df2 = pd.read_csv('csv/KOMPAS_2019_p.csv')\n",
    "df2.dropna(inplace=True)\n",
    "df1.dropna(inplace=True)"
   ]
  },
  {
   "cell_type": "code",
   "execution_count": 15,
   "metadata": {},
   "outputs": [],
   "source": [
    "df1.columns = ['index', 'title', 'image', 'links', 'date']\n",
    "df2 = df2.drop(['Unnamed: 0'], axis=1)\n",
    "df1 = df1.drop(['index'], axis=1)\n",
    "df2.columns=['links', 'p']\n",
    "df2 = df2.reset_index(drop=True)"
   ]
  },
  {
   "cell_type": "markdown",
   "metadata": {},
   "source": [
    "# filling the nan in p"
   ]
  },
  {
   "cell_type": "code",
   "execution_count": 16,
   "metadata": {},
   "outputs": [],
   "source": [
    "test_df = pd.merge(df1, df2, on='links', how='left')"
   ]
  },
  {
   "cell_type": "code",
   "execution_count": 17,
   "metadata": {},
   "outputs": [],
   "source": [
    "missing_p = test_df[test_df.isna().any(axis=1)]"
   ]
  },
  {
   "cell_type": "code",
   "execution_count": 13,
   "metadata": {
    "scrolled": true
   },
   "outputs": [
    {
     "name": "stdout",
     "output_type": "stream",
     "text": [
      "https://entertainment.kompas.com/jeo/artis-indonesia-dan-moge-sekadar-hobi-dan-gaya\n",
      "error\n",
      "https://entertainment.kompas.com/jeo/cerita-artis-indonesia-dan-moge-tunggangannya\n",
      "error\n",
      "https://biz.kompas.com/read/2019/07/05/184353528/ke-australia-jangan-lewatkan-event-chevron-city-to-surf-for-activ\n",
      "error\n",
      "https://travel.kompas.com/jeo/riwayat-sambal-nusantara\n",
      "error\n",
      "https://nasional.kompas.com/jeo/pecah-kongsi-bongkar-pasang-koalisi-pemilu-2019\n",
      "error\n",
      "https://regional.kompas.com/read/2019/07/02/07350061/ini-profil-4-figur-yang-diusulkan-koalisi-masyarakat-sipil-ntb-untuk-pimpin\n",
      "error\n",
      "https://nasional.kompas.com/jeo/pansel-kpk-menjawab-polemik-dan-kritik\n",
      "error\n",
      "https://nasional.kompas.com/jeo/setelah-putusan-mk-menolak-seluruh-gugatan-sengketa-pilpres-2019\n",
      "error\n",
      "https://biz.kompas.com/read/2019/06/24/162000828/selangkah-lagi-bank-bri-miliki-asuransi-umum\n",
      "error\n",
      "https://nasional.kompas.com/jeo/pokok-perkara-dan-jawaban-tergugat-sidang-mk-sengketa-pilpres-2019\n",
      "error\n",
      "https://nasional.kompas.com/read/2019/06/20/13405751/ahli-kpu-kesalahan-input-di-situng-berdampak-kepada-dua-paslon\n",
      "error\n",
      "https://biz.kompas.com/read/2019/06/19/194257328/kolaborasi-pemerintah-dan-swasta-libatkan-19-pengembang\n",
      "error\n",
      "https://tekno.kompas.com/read/2019/06/18/13210957/spesifikasi-lengkap-dan-harga-oppo-reno-di-indonesia\n",
      "error\n",
      "https://nasional.kompas.com/jeo/hal-hal-yang-perlu-kita-tahu-soal-sengketa-hasil-pemilu-2019\n",
      "error\n",
      "https://money.kompas.com/jeo/tren-dan-tips-bisnis-jastip-raup-rupiah\n",
      "error\n",
      "https://travel.kompas.com/read/2019/06/11/210800727/paspor-paling-langka-di-dunia-hanya-dimiliki-500-orang\n",
      "error\n",
      "https://megapolitan.kompas.com/jeo/lebaran-di-jakarta-mau-apa-dan-liburan-ke-mana\n",
      "error\n",
      "https://megapolitan.kompas.com/jeo/mudik-lebaran-pulang-menjemput-keajaiban-maaf\n",
      "error\n",
      "https://biz.kompas.com/read/2019/05/25/092549128/phi-ssp-sebuah-platform-iklan-digital-yang-baru-saja-diluncurkan-emc-group\n",
      "error\n",
      "https://properti.kompas.com/read/2019/05/23/190717021/survei-milenial-sanggup-beli-rumah-secara-tunai\n",
      "error\n",
      "https://bola.kompas.com/jeo/ke-olimpiade-2020-lalu-muhammad-zohri-terus-melaju\n",
      "error\n",
      "https://entertainment.kompas.com/read/2019/05/19/021425410/keanu-reeves-mengaku-naksir-sandra-bullock-saat-bintangi-speed\n",
      "error\n",
      "https://www.nextren.com/read/2019/05/10/151434531/inr-ardito-pengelola-andalkan-hotel-dan-ballroom-untuk-rawat-equestrian-pulomas\n",
      "error\n",
      "https://www.nextren.com/read/2019/05/10/151222131/inr-test-kirim-berita-dari-cms-inr\n",
      "error\n",
      "https://nasional.kompas.com/jeo/sidang-isbat-rukyat-hisab-dan-penanggalan-islam\n",
      "error\n",
      "https://entertainment.kompas.com/jeo/avengers-endgame-akhir-saga-11-tahun\n",
      "error\n",
      "https://nasional.kompas.com/read/2019/04/16/22504191/prabowo-sandiaga-optimistis-raih-63-persen-suara-di-pilpres-2019\n",
      "error\n",
      "https://nasional.kompas.com/jeo/panduan-lengkap-buat-pemilih-pemilu-2019\n",
      "error\n",
      "https://regional.kompas.com/jeo/memahami-pemilih-dengan-gangguan-jiwa-dan-berkebutuhan-khusus\n",
      "error\n",
      "https://regional.kompas.com/jeo/membaca-peluang-jokowi-vs-prabowo-di-lumbung-suara-jateng-dan-diy\n",
      "error\n",
      "https://regional.kompas.com/jeo/jokowi-maruf-vs-prabowo-sandi-berebut-suara-penentu-di-jawa-barat\n",
      "error\n",
      "https://money.kompas.com/jeo/industri-40-janji-dan-tantangan-para-capres-pemilu-2019\n",
      "error\n",
      "https://money.kompas.com/jeo/jokowi-vs-prabowo-intip-strategi-mereka-buat-pertumbuhan-ekonomi-indonesia\n",
      "error\n",
      "https://regional.kompas.com/jeo/sulsel-peta-tak-terprediksi-jokowi-maruf-vs-prabowo-sandiaga\n",
      "error\n",
      "https://nasional.kompas.com/jeo/buka-bukaan-biaya-caleg-demi-kursi-di-senayan\n",
      "error\n",
      "https://money.kompas.com/jeo/polemik-utang-di-mata-para-capres-pemilu-2019\n",
      "error\n",
      "https://money.kompas.com/jeo/adu-program-jokowi-dan-prabowo-soal-kesejahteraan-mana-yang-realistis\n",
      "error\n",
      "https://regional.kompas.com/jeo/di-sumut-jokowi-maruf-dan-prabowo-sandiaga-berpeluang-sama-kuat\n",
      "error\n",
      "https://regional.kompas.com/jeo/jokowi-maruf-vs-prabowo-sandiaga-siapa-lebih-berpeluang-di-jawa-timur\n",
      "error\n",
      "https://nasional.kompas.com/jeo/pertanyaan-seputar-pemilu-2019-dan-jawabannya\n",
      "error\n",
      "https://money.kompas.com/jeo/jokowi-vs-prabowo-pilpres-2019-dan-defisit-neraca-perdagangan\n",
      "error\n",
      "https://biz.kompas.com/read/2019/04/07/160512028/ingin-liburan-anti-mainstream-di-macao-kunjungi-destinasi-destinasi-ini\n",
      "error\n",
      "https://entertainment.kompas.com/jeo/menunggu-akhir-kisah-game-of-thrones-season-8\n",
      "error\n",
      "https://nasional.kompas.com/jeo/hal-hal-yang-pemilih-pemilu-2019-wajib-tahu\n",
      "error\n",
      "https://bola.kompas.com/read/2019/04/04/11442608/rionny-mainaky-tanggapi-kegagalan-fitriani-gregoria-di-malaysia-open\n",
      "error\n",
      "https://nasional.kompas.com/read/2019/04/04/06511311/kpu-diminta-lebih-masif-sosialisasikan-aplikasi-online-untuk-pencatatan-dpt\n",
      "error\n",
      "https://nasional.kompas.com/read/2019/04/02/12452941/belum-terdaftar-di-dpt-lakukan-prosedur-ini\n",
      "error\n",
      "https://money.kompas.com/read/2019/04/02/071235326/kementan-temukan-peredaran-pestisida-ilegal-di-brebes\n",
      "error\n",
      "https://money.kompas.com/read/2019/04/01/093800026/mengintip-strategi-john-wen-milenial-yang-sukses-bermain-saham\n",
      "error\n",
      "https://bola.kompas.com/read/2019/03/31/18345258/dibawa-ambulans-rakic-dapat-perawatan-di-rsud-soebroto\n",
      "error\n",
      "https://megapolitan.kompas.com/read/2019/03/25/20130891/atasi-pencemaran-limbah-ipal-di-jakarta-utara-akan-dibangun-2020\n",
      "error\n",
      "https://internasional.kompas.com/read/2019/03/21/19351921/sunat-dua-putrinya-ibu-di-australia-dipenjara\n",
      "error\n",
      "https://megapolitan.kompas.com/read/2019/03/21/12264621/berburu-spot-foto-instagramable-di-jakarta-cek-tempat-tempat-ini\n",
      "error\n",
      "https://internasional.kompas.com/read/2019/03/19/15395361/isis-serukan-balas-dendam-atas-aksi-teror-di-masjid-selandia-baru\n",
      "error\n",
      "https://nasional.kompas.com/read/2019/03/17/20470451/sandiaga-janjikan-sinergi-dunia-usaha-akademik-dan-pemerintah\n",
      "error\n",
      "https://internasional.kompas.com/jeo/fakta-dan-reaksi-dunia-atas-serangan-teroris-ke-masjid-di-selandia-baru\n",
      "error\n",
      "https://internasional.kompas.com/read/2019/03/15/13022931/cegah-pacaran-di-kalangan-murid-sma-di-china-terbitkan-aturan-khusus\n",
      "error\n",
      "https://internasional.kompas.com/read/2019/03/14/17113051/bermain-game-online-pubg-10-mahasiswa-ditahan-polisi-di-india\n",
      "error\n",
      "https://biz.kompas.com/read/2019/03/14/150600628/para-pecinta-outdoor-serbu-pameran-indofest-2019\n",
      "error\n",
      "https://bola.kompas.com/jeo/badminton-indonesia-mau-sampai-kapan-andalkan-ganda-putra\n",
      "error\n",
      "https://money.kompas.com/read/2019/03/11/180619226/seorang-pria-berbaju-hitam-jatuh-dari-lantai-3-pondok-indah-mal-2\n",
      "error\n",
      "https://nasional.kompas.com/jeo/caleg-eks-koruptor-siapa-saja-dan-apa-kata-parpolnya\n",
      "error\n",
      "https://biz.kompas.com/read/2019/03/04/161229628/mengenal-lebih-jauh-tol-langit\n",
      "error\n",
      "https://bola.kompas.com/jeo/timnas-indonesia-juara-aff-u-22-kado-kesejukan-di-tengah-kepahitan\n",
      "error\n",
      "https://nasional.kompas.com/read/2019/02/26/20440961/kasus-spam-pupr-kpk-sita-rumah-dan-tanah-seorang-kasatker-proyek\n",
      "error\n",
      "https://otomotif.kompas.com/jeo/cek-mobil-paling-laku-di-indonesia-sepanjang-2018\n",
      "error\n",
      "https://olahraga.kompas.com/read/2019/02/24/11563148/resmi-panjat-tebing-akan-dipertandingkan-di-olimpiade-paris-2024\n",
      "error\n",
      "https://tekno.kompas.com/read/2019/02/21/13190067/video--hands-on-samsung-galaxy-s10\n",
      "error\n",
      "https://biz.kompas.com/read/2019/02/20/211525428/mewujudkan-impian-hadirkan-buah-hati-bersama-alpha-ivf-group\n",
      "error\n",
      "https://sains.kompas.com/read/2019/02/19/172958123/prabowo-janji-tambah-kebun-sawit-plasma-saat-debat-bagaimana-nasib-hutan\n",
      "error\n",
      "https://ekonomi.kompas.com/jeo/hal-hal-krusial-terkait-debat-kedua-pilpres-2019\n",
      "error\n",
      "https://properti.kompas.com/jeo/infrastruktur-tantangan-jokowi-dan-prabowo-memajukan-indonesia\n",
      "error\n",
      "https://ekonomi.kompas.com/jeo/pilpres-2019-dan-bayang-bayang-ancaman-krisis-energi\n",
      "error\n",
      "https://entertainment.kompas.com/read/2019/02/15/133416210/di-indonesia-film-captain-marvel-tayang-dua-hari-lebih-cepat-dari-as\n",
      "error\n",
      "https://ekonomi.kompas.com/jeo/menunggu-eksplorasi-kebijakan-jokowi-dan-prabowo-soal-ketahanan-pangan\n",
      "error\n",
      "https://nasional.kompas.com/jeo/pilpres-2019minus-gereget-pemberantasan-korupsi\n",
      "error\n",
      "https://internasional.kompas.com/read/2019/02/02/11535141/pergi-ke-suriah-di-usia-15-tahun-kini-leonora-ingin-pulang-ke-jerman\n",
      "error\n",
      "https://olahraga.kompas.com/read/2019/02/02/01143398/golovkin-dapat-tawaran-ratusan-milyar-untuk-dua-pertarungan\n",
      "error\n"
     ]
    },
    {
     "name": "stdout",
     "output_type": "stream",
     "text": [
      "https://megapolitan.kompas.com/jeo/menelaah-3-pembunuhan-sadis-di-jabodetabek\n",
      "error\n",
      "https://bola.kompas.com/jeo/perhentian-akhir-liliyana-natsir-terima-kasih-butet\n",
      "error\n",
      "https://biz.kompas.com/read/2019/01/25/172617328/apa-saja-perbedaan-pinjaman-online-dan-bank\n",
      "error\n",
      "https://lifestyle.kompas.com/read/2019/01/24/170000020/sonya-morina-dan-lukisan-airbrush-di-atas-pakaian-sutra-\n",
      "error\n",
      "https://megapolitan.kompas.com/jeo/ahok-bebas\n",
      "error\n",
      "https://megapolitan.kompas.com/read/2019/01/24/09010081/menjelang-bebasnya-ahok-dari-mako-brimob-hari-ini\n",
      "error\n",
      "https://nasional.kompas.com/jeo/polemik-pembebasanbaasyir-antara-kemanusiaan-dan-hukum\n",
      "error\n",
      "https://nasional.kompas.com/jeo/pilpres-2019-antiklimaks-perlindungan-ham\n",
      "error\n",
      "https://nasional.kompas.com/jeo/terorisme-menurut-jokowi-maruf-dan-prabowo-sandiaga\n",
      "error\n"
     ]
    }
   ],
   "source": [
    "from ehe import pull_paragraf\n",
    "\n",
    "list_of_p_missing = []\n",
    "for link in missing_p.links.values: \n",
    "#     print(link)\n",
    "    try:\n",
    "        list_of_p_missing.append(pull_paragraf(link))\n",
    "    except: \n",
    "        print(link)\n",
    "        print('error')\n",
    "        list_of_p_missing.append(None)"
   ]
  },
  {
   "cell_type": "code",
   "execution_count": 23,
   "metadata": {},
   "outputs": [
    {
     "name": "stdout",
     "output_type": "stream",
     "text": [
      "- [sample4](https://entertainment.kompas.com/jeo/artis-indonesia-dan-moge-sekadar-hobi-dan-gaya)\n",
      "- [sample9](https://entertainment.kompas.com/jeo/cerita-artis-indonesia-dan-moge-tunggangannya)\n",
      "- [sample12](https://travel.kompas.com/jeo/riwayat-sambal-nusantara)\n",
      "- [sample13](https://nasional.kompas.com/jeo/pecah-kongsi-bongkar-pasang-koalisi-pemilu-2019)\n",
      "- [sample19](https://nasional.kompas.com/jeo/pansel-kpk-menjawab-polemik-dan-kritik)\n",
      "- [sample22](https://nasional.kompas.com/jeo/setelah-putusan-mk-menolak-seluruh-gugatan-sengketa-pilpres-2019)\n",
      "- [sample33](https://nasional.kompas.com/jeo/pokok-perkara-dan-jawaban-tergugat-sidang-mk-sengketa-pilpres-2019)\n",
      "- [sample43](https://nasional.kompas.com/jeo/hal-hal-yang-perlu-kita-tahu-soal-sengketa-hasil-pemilu-2019)\n",
      "- [sample46](https://money.kompas.com/jeo/tren-dan-tips-bisnis-jastip-raup-rupiah)\n",
      "- [sample56](https://megapolitan.kompas.com/jeo/lebaran-di-jakarta-mau-apa-dan-liburan-ke-mana)\n",
      "- [sample58](https://megapolitan.kompas.com/jeo/mudik-lebaran-pulang-menjemput-keajaiban-maaf)\n",
      "- [sample74](https://bola.kompas.com/jeo/ke-olimpiade-2020-lalu-muhammad-zohri-terus-melaju)\n",
      "- [sample99](https://nasional.kompas.com/jeo/sidang-isbat-rukyat-hisab-dan-penanggalan-islam)\n",
      "- [sample106](https://entertainment.kompas.com/jeo/avengers-endgame-akhir-saga-11-tahun)\n",
      "- [sample129](https://nasional.kompas.com/jeo/panduan-lengkap-buat-pemilih-pemilu-2019)\n",
      "- [sample132](https://regional.kompas.com/jeo/memahami-pemilih-dengan-gangguan-jiwa-dan-berkebutuhan-khusus)\n",
      "- [sample134](https://regional.kompas.com/jeo/membaca-peluang-jokowi-vs-prabowo-di-lumbung-suara-jateng-dan-diy)\n",
      "- [sample135](https://regional.kompas.com/jeo/jokowi-maruf-vs-prabowo-sandi-berebut-suara-penentu-di-jawa-barat)\n",
      "- [sample136](https://money.kompas.com/jeo/industri-40-janji-dan-tantangan-para-capres-pemilu-2019)\n",
      "- [sample137](https://money.kompas.com/jeo/jokowi-vs-prabowo-intip-strategi-mereka-buat-pertumbuhan-ekonomi-indonesia)\n",
      "- [sample138](https://regional.kompas.com/jeo/sulsel-peta-tak-terprediksi-jokowi-maruf-vs-prabowo-sandiaga)\n",
      "- [sample139](https://nasional.kompas.com/jeo/buka-bukaan-biaya-caleg-demi-kursi-di-senayan)\n",
      "- [sample141](https://money.kompas.com/jeo/polemik-utang-di-mata-para-capres-pemilu-2019)\n",
      "- [sample143](https://money.kompas.com/jeo/adu-program-jokowi-dan-prabowo-soal-kesejahteraan-mana-yang-realistis)\n",
      "- [sample144](https://regional.kompas.com/jeo/di-sumut-jokowi-maruf-dan-prabowo-sandiaga-berpeluang-sama-kuat)\n",
      "- [sample145](https://regional.kompas.com/jeo/jokowi-maruf-vs-prabowo-sandiaga-siapa-lebih-berpeluang-di-jawa-timur)\n",
      "- [sample147](https://nasional.kompas.com/jeo/pertanyaan-seputar-pemilu-2019-dan-jawabannya)\n",
      "- [sample148](https://money.kompas.com/jeo/jokowi-vs-prabowo-pilpres-2019-dan-defisit-neraca-perdagangan)\n",
      "- [sample152](https://entertainment.kompas.com/jeo/menunggu-akhir-kisah-game-of-thrones-season-8)\n",
      "- [sample153](https://nasional.kompas.com/jeo/hal-hal-yang-pemilih-pemilu-2019-wajib-tahu)\n",
      "- [sample170](https://internasional.kompas.com/jeo/fakta-dan-reaksi-dunia-atas-serangan-teroris-ke-masjid-di-selandia-baru)\n",
      "- [sample174](https://bola.kompas.com/jeo/badminton-indonesia-mau-sampai-kapan-andalkan-ganda-putra)\n",
      "- [sample176](https://nasional.kompas.com/jeo/caleg-eks-koruptor-siapa-saja-dan-apa-kata-parpolnya)\n",
      "- [sample178](https://bola.kompas.com/jeo/timnas-indonesia-juara-aff-u-22-kado-kesejukan-di-tengah-kepahitan)\n",
      "- [sample180](https://otomotif.kompas.com/jeo/cek-mobil-paling-laku-di-indonesia-sepanjang-2018)\n",
      "- [sample185](https://ekonomi.kompas.com/jeo/hal-hal-krusial-terkait-debat-kedua-pilpres-2019)\n",
      "- [sample186](https://properti.kompas.com/jeo/infrastruktur-tantangan-jokowi-dan-prabowo-memajukan-indonesia)\n",
      "- [sample187](https://ekonomi.kompas.com/jeo/pilpres-2019-dan-bayang-bayang-ancaman-krisis-energi)\n",
      "- [sample189](https://ekonomi.kompas.com/jeo/menunggu-eksplorasi-kebijakan-jokowi-dan-prabowo-soal-ketahanan-pangan)\n",
      "- [sample190](https://nasional.kompas.com/jeo/pilpres-2019minus-gereget-pemberantasan-korupsi)\n",
      "- [sample193](https://megapolitan.kompas.com/jeo/menelaah-3-pembunuhan-sadis-di-jabodetabek)\n",
      "- [sample194](https://bola.kompas.com/jeo/perhentian-akhir-liliyana-natsir-terima-kasih-butet)\n",
      "- [sample197](https://megapolitan.kompas.com/jeo/ahok-bebas)\n",
      "- [sample199](https://nasional.kompas.com/jeo/polemik-pembebasanbaasyir-antara-kemanusiaan-dan-hukum)\n",
      "- [sample200](https://nasional.kompas.com/jeo/pilpres-2019-antiklimaks-perlindungan-ham)\n",
      "- [sample201](https://nasional.kompas.com/jeo/terorisme-menurut-jokowi-maruf-dan-prabowo-sandiaga)\n"
     ]
    }
   ],
   "source": [
    "for i, link in enumerate(missing_p.links.values): \n",
    "    if 'jeo' in link: \n",
    "        print(f'- [sample{i}]({link})')"
   ]
  },
  {
   "cell_type": "code",
   "execution_count": 24,
   "metadata": {},
   "outputs": [],
   "source": [
    "import requests\n",
    "from bs4 import BeautifulSoup"
   ]
  },
  {
   "cell_type": "code",
   "execution_count": 25,
   "metadata": {},
   "outputs": [],
   "source": [
    "r = requests.get('https://entertainment.kompas.com/jeo/artis-indonesia-dan-moge-sekadar-hobi-dan-gaya')"
   ]
  },
  {
   "cell_type": "code",
   "execution_count": 28,
   "metadata": {},
   "outputs": [],
   "source": [
    "link = 'https://regional.kompas.com/read/2019/07/02/07350061/ini-profil-4-figur-yang-diusulkan-koalisi-masyarakat-sipil-ntb-untuk-pimpin'"
   ]
  },
  {
   "cell_type": "code",
   "execution_count": 29,
   "metadata": {},
   "outputs": [],
   "source": [
    "r = requests.get(link)"
   ]
  },
  {
   "cell_type": "code",
   "execution_count": 30,
   "metadata": {},
   "outputs": [],
   "source": [
    "soup = BeautifulSoup(r.content, 'lxml')"
   ]
  },
  {
   "cell_type": "code",
   "execution_count": 32,
   "metadata": {},
   "outputs": [
    {
     "name": "stdout",
     "output_type": "stream",
     "text": [
      "yes\n"
     ]
    }
   ],
   "source": [
    "if '404' in soup.text: \n",
    "    print('yes')"
   ]
  },
  {
   "cell_type": "code",
   "execution_count": 14,
   "metadata": {},
   "outputs": [],
   "source": [
    "paragraf_di_pesona_indonesia =soup.find('div',class_='main-artikel-paragraf')"
   ]
  },
  {
   "cell_type": "code",
   "execution_count": 9,
   "metadata": {},
   "outputs": [],
   "source": [
    "lx = soup.find('div', class_='container')"
   ]
  },
  {
   "cell_type": "code",
   "execution_count": 10,
   "metadata": {},
   "outputs": [
    {
     "data": {
      "text/plain": [
       "<div class=\"container\"><div class=\"date-poll\">Selasa, 9 Juli 2019 | 11:57 WIB</div></div>"
      ]
     },
     "execution_count": 10,
     "metadata": {},
     "output_type": "execute_result"
    }
   ],
   "source": [
    "lx"
   ]
  },
  {
   "cell_type": "code",
   "execution_count": 24,
   "metadata": {},
   "outputs": [
    {
     "data": {
      "text/plain": [
       "True"
      ]
     },
     "execution_count": 24,
     "metadata": {},
     "output_type": "execute_result"
    }
   ],
   "source": [
    "type(lx) == type(None)"
   ]
  },
  {
   "cell_type": "code",
   "execution_count": null,
   "metadata": {},
   "outputs": [],
   "source": []
  }
 ],
 "metadata": {
  "kernelspec": {
   "display_name": "Python 3",
   "language": "python",
   "name": "python3"
  },
  "language_info": {
   "codemirror_mode": {
    "name": "ipython",
    "version": 3
   },
   "file_extension": ".py",
   "mimetype": "text/x-python",
   "name": "python",
   "nbconvert_exporter": "python",
   "pygments_lexer": "ipython3",
   "version": "3.7.3"
  }
 },
 "nbformat": 4,
 "nbformat_minor": 4
}
