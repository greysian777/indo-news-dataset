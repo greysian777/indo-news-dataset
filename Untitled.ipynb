{
 "cells": [
  {
   "cell_type": "code",
   "execution_count": 10,
   "metadata": {},
   "outputs": [
    {
     "name": "stdout",
     "output_type": "stream",
     "text": [
      "Writing get_p.py\n"
     ]
    }
   ],
   "source": [
    "%%writefile get_p.py\n",
    "import pandas as pd\n",
    "from ehe import pull_paragraf, pull_source\n",
    "import time\n",
    "import os\n",
    "\n",
    "\n",
    "df = pd.read_csv('berhasil_2019.csv')\n",
    "df1 = pd.read_csv('KOMPAS 2018.csv')\n",
    "df.columns = ['0', 'judul', 'image', 'link', 'tanggal']\n",
    "links = df.link\n",
    "# links = links[18954:]\n",
    "\n",
    "p_source = pd.DataFrame()\n",
    "for i, link in enumerate(links):\n",
    "    print(f'getting par of {link}')     \n",
    "    try:\n",
    "        p = pull_paragraf(link)\n",
    "#         html = pull_source(link)\n",
    "    except Exception as e: \n",
    "        time.sleep(60)\n",
    "        p = None\n",
    "        pass\n",
    "    if i % 100 == 0 and i != 1 : \n",
    "        print('-- UPLOAD TIME -- \\n\\n\\n\\n\\n')\n",
    "        os.system('python3 pusher.py')\n",
    "    \n",
    "   \n",
    "    df_ = pd.Series([link, p])\n",
    "    df__ = p_source.append(df_, ignore_index=True)\n",
    "    df__.to_csv('KOMPAS_2019_p.csv', mode='a')\n",
    "    print(f'done {i}/{len(links)}')\n",
    "os.system('python3 pusher.py')"
   ]
  },
  {
   "cell_type": "code",
   "execution_count": 8,
   "metadata": {},
   "outputs": [],
   "source": [
    "import pandas as pd \n",
    "df1 = pd.read_csv('berhasil_2019.csv')\n",
    "df2 = pd.read_csv('KOMPAS_2019_p.csv')\n",
    "df2.dropna(inplace=True)\n",
    "df1.dropna(inplace=True)"
   ]
  },
  {
   "cell_type": "code",
   "execution_count": 2,
   "metadata": {},
   "outputs": [],
   "source": [
    "df1.columns = ['index', 'title', 'image', 'links', 'date']"
   ]
  },
  {
   "cell_type": "code",
   "execution_count": 3,
   "metadata": {},
   "outputs": [
    {
     "name": "stdout",
     "output_type": "stream",
     "text": [
      "31499\n"
     ]
    }
   ],
   "source": [
    "for i, link in enumerate(df1.links):\n",
    "    if link == df2.iloc[-1][1]: \n",
    "        print(i)"
   ]
  },
  {
   "cell_type": "code",
   "execution_count": 9,
   "metadata": {},
   "outputs": [
    {
     "data": {
      "text/plain": [
       "32115"
      ]
     },
     "execution_count": 9,
     "metadata": {},
     "output_type": "execute_result"
    }
   ],
   "source": [
    "len(df2)"
   ]
  },
  {
   "cell_type": "code",
   "execution_count": 10,
   "metadata": {},
   "outputs": [
    {
     "data": {
      "text/plain": [
       "82402"
      ]
     },
     "execution_count": 10,
     "metadata": {},
     "output_type": "execute_result"
    }
   ],
   "source": [
    "len(df1)"
   ]
  },
  {
   "cell_type": "code",
   "execution_count": 7,
   "metadata": {},
   "outputs": [
    {
     "data": {
      "text/plain": [
       "0.3822844105725589"
      ]
     },
     "execution_count": 7,
     "metadata": {},
     "output_type": "execute_result"
    }
   ],
   "source": [
    "31501 / 82402"
   ]
  },
  {
   "cell_type": "code",
   "execution_count": null,
   "metadata": {},
   "outputs": [],
   "source": []
  }
 ],
 "metadata": {
  "kernelspec": {
   "display_name": "Python 3",
   "language": "python",
   "name": "python3"
  },
  "language_info": {
   "codemirror_mode": {
    "name": "ipython",
    "version": 3
   },
   "file_extension": ".py",
   "mimetype": "text/x-python",
   "name": "python",
   "nbconvert_exporter": "python",
   "pygments_lexer": "ipython3",
   "version": "3.6.8"
  }
 },
 "nbformat": 4,
 "nbformat_minor": 4
}
